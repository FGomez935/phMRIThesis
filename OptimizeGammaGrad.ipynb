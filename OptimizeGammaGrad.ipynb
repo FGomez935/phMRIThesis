{
 "cells": [
  {
   "cell_type": "code",
   "execution_count": null,
   "id": "bc0dd3e3",
   "metadata": {},
   "outputs": [],
   "source": [
    "from sklearn.linear_model import Lasso\n",
    "from sklearn.model_selection import KFold\n",
    "import numpy as np"
   ]
  },
  {
   "cell_type": "code",
   "execution_count": 1,
   "id": "a733261b",
   "metadata": {},
   "outputs": [],
   "source": [
    "def gamma_variate(t, tmax, b, delay):\n",
    "    \"\"\"\n",
    "    Gamma variate function for modeling the hemodynamic response.\n",
    "    \"\"\"\n",
    "    t_adjusted = np.maximum(t - delay, 0)\n",
    "    gv = (t_adjusted / tmax)**(b * tmax) * np.exp(b * (tmax - t_adjusted))\n",
    "    return gv\n"
   ]
  },
  {
   "cell_type": "code",
   "execution_count": 2,
   "id": "f6865808",
   "metadata": {},
   "outputs": [],
   "source": [
    "import nibabel as nib\n",
    "\n",
    "def load_nifti(file_path):\n",
    "    # Load a NIfTI file\n",
    "    nifti_data = nib.load(file_path)\n",
    "    return nifti_data.get_fdata()\n"
   ]
  },
  {
   "cell_type": "code",
   "execution_count": 3,
   "id": "88ad368e",
   "metadata": {},
   "outputs": [],
   "source": [
    "def flatten_spatial_dimensions(nifti_data):\n",
    "    # nifti_data is a 4D numpy array: (x, y, z, time)\n",
    "    n_timepoints = nifti_data.shape[-1]\n",
    "    flattened_data = []\n",
    "\n",
    "    for t in range(n_timepoints):\n",
    "        timepoint_data = nifti_data[:,:,:,t]\n",
    "        flattened_data.append(timepoint_data.flatten())\n",
    "\n",
    "    return np.array(flattened_data)\n"
   ]
  },
  {
   "cell_type": "code",
   "execution_count": null,
   "id": "bce78863",
   "metadata": {},
   "outputs": [],
   "source": [
    "patient_datasets =   # List of file paths to patient datasets\n",
    "\n",
    "preprocessed_data = []\n",
    "for file_path in patient_datasets:\n",
    "    nifti_data = load_nifti(file_path)\n",
    "    flattened_data = flatten_spatial_dimensions(nifti_data)\n",
    "    # Additional preprocessing (e.g., normalization) can be applied here\n",
    "    preprocessed_data.append(flattened_data)\n"
   ]
  },
  {
   "cell_type": "code",
   "execution_count": null,
   "id": "593a2f29",
   "metadata": {},
   "outputs": [],
   "source": [
    "from sklearn.linear_model import Lasso\n",
    "from sklearn.model_selection import KFold\n",
    "import numpy as np\n",
    "\n",
    "# Assuming preprocessed_data is a list of 2D arrays (time x voxels) for each patient\n",
    "\n",
    "best_params_per_patient = []\n",
    "k = 5  # Number of folds in k-fold cross-validation\n",
    "l1_penalty = 0.01  # L1 regularization strength\n",
    "\n",
    "for patient_data in preprocessed_data:  # Loop over each patient's data\n",
    "    param_grid = {\n",
    "        'tmax': np.linspace(start_tmax, end_tmax, num=...),\n",
    "        'b': np.linspace(start_b, end_b, num=...)\n",
    "    }\n",
    "    best_params = {'tmax': None, 'b': None}\n",
    "    best_score = float('-inf')\n",
    "\n",
    "    kfold = KFold(n_splits=k, shuffle=True)\n",
    "\n",
    "    for tmax in param_grid['tmax']:\n",
    "        for b in param_grid['b']:\n",
    "            scores = []\n",
    "            for train_index, test_index in kfold.split(patient_data):\n",
    "                # Generate predicted time series for current parameters\n",
    "                predicted_time_series = gamma_variate(t, tmax, b, delay)\n",
    "\n",
    "                glm_model = Lasso(alpha=l1_penalty)  # L1 regularization\n",
    "                glm_model.fit(patient_data[train_index], predicted_time_series[train_index])\n",
    "                score = glm_model.score(patient_data[test_index], predicted_time_series[test_index])\n",
    "\n",
    "                scores.append(score)\n",
    "\n",
    "            avg_score = np.mean(scores)\n",
    "            if avg_score > best_score:\n",
    "                best_score = avg_score\n",
    "                best_params['tmax'] = tmax\n",
    "                best_params['b'] = b\n",
    "\n",
    "    best_params_per_patient.append(best_params)\n",
    "\n",
    "# best_params_per_patient now holds the best parameters for each patient\n"
   ]
  }
 ],
 "metadata": {
  "kernelspec": {
   "display_name": "Python 3",
   "language": "python",
   "name": "python3"
  },
  "language_info": {
   "codemirror_mode": {
    "name": "ipython",
    "version": 3
   },
   "file_extension": ".py",
   "mimetype": "text/x-python",
   "name": "python",
   "nbconvert_exporter": "python",
   "pygments_lexer": "ipython3",
   "version": "3.6.8"
  }
 },
 "nbformat": 4,
 "nbformat_minor": 5
}
