{
 "cells": [
  {
   "cell_type": "code",
   "execution_count": 2,
   "id": "d1cbcb41",
   "metadata": {},
   "outputs": [
    {
     "name": "stdout",
     "output_type": "stream",
     "text": [
      "Files moved successfully.\n"
     ]
    }
   ],
   "source": [
    "import os\n",
    "import shutil\n",
    "\n",
    "# Define the source and destination paths\n",
    "source_path = '/home/fgomezacebo/scratch'\n",
    "destination_path = \"/home/fgomezacebo/scratch/normalized_data\"\n",
    "\n",
    "# Create the destination directory if it doesn't exist\n",
    "os.makedirs(destination_path, exist_ok=True)\n",
    "\n",
    "for subject_id in os.listdir(source_path):\n",
    "    subject_path = os.path.join(source_path, subject_id)\n",
    "    if os.path.isdir(subject_path):\n",
    "        for session in os.listdir(subject_path):\n",
    "            if session.endswith('ses-high'):\n",
    "                session_path = os.path.join(subject_path, session, 'func')\n",
    "                if os.path.isdir(session_path):\n",
    "                    for file_name in os.listdir(session_path):\n",
    "                        if file_name.endswith('_filtered_func_data_selected.nii.gz'):\n",
    "                            file_path = os.path.join(session_path, file_name)\n",
    "\n",
    "                            # Move the file to the destination directory\n",
    "                            shutil.move(file_path, os.path.join(destination_path, file_name))\n",
    "\n",
    "print(\"Files moved successfully.\")\n"
   ]
  },
  {
   "cell_type": "code",
   "execution_count": 2,
   "id": "61b68708",
   "metadata": {},
   "outputs": [
    {
     "name": "stdout",
     "output_type": "stream",
     "text": [
      "Files moved successfully.\n"
     ]
    }
   ],
   "source": [
    "import os\n",
    "import shutil\n",
    "\n",
    "# Define the source and destination paths\n",
    "source_path = '/home/fgomezacebo/scratch'\n",
    "destination_path = \"/home/fgomezacebo/scratch/normalized_data\"\n",
    "\n",
    "# Create the destination directory if it doesn't exist\n",
    "os.makedirs(destination_path, exist_ok=True)\n",
    "\n",
    "for file_name in os.listdir(source_path):\n",
    "    if file_name.endswith('.ipynb'):\n",
    "        file_path = os.path.join(source_path, file_name)\n",
    "\n",
    "        # Move the file to the destination directory\n",
    "        shutil.move(file_path, os.path.join(destination_path, file_name))\n",
    "\n",
    "print(\"Files moved successfully.\")"
   ]
  },
  {
   "cell_type": "code",
   "execution_count": null,
   "id": "8c9670e8",
   "metadata": {},
   "outputs": [],
   "source": []
  }
 ],
 "metadata": {
  "kernelspec": {
   "display_name": "Python 3",
   "language": "python",
   "name": "python3"
  },
  "language_info": {
   "codemirror_mode": {
    "name": "ipython",
    "version": 3
   },
   "file_extension": ".py",
   "mimetype": "text/x-python",
   "name": "python",
   "nbconvert_exporter": "python",
   "pygments_lexer": "ipython3",
   "version": "3.6.8"
  }
 },
 "nbformat": 4,
 "nbformat_minor": 5
}
