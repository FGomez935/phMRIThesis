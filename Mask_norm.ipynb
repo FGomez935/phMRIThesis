{
 "cells": [
  {
   "cell_type": "code",
   "execution_count": 1,
   "id": "6a513bb9",
   "metadata": {},
   "outputs": [],
   "source": [
    "import os\n",
    "import glob\n",
    "import nibabel as nib\n",
    "import numpy as np"
   ]
  },
  {
   "cell_type": "code",
   "execution_count": null,
   "id": "c723a869",
   "metadata": {},
   "outputs": [],
   "source": [
    "def apply_brain_mask(nifti_file_path, mask_file_path, threshold, output_directory):\n",
    "    # Load NIfTI file and mask\n",
    "    nifti_img = nib.load(nifti_file_path)\n",
    "    mask_img = nib.load(mask_file_path)\n",
    "    \n",
    "    data = nifti_img.get_fdata()\n",
    "    mask = mask_img.get_fdata() > threshold\n",
    "\n",
    "    # Apply the mask to each time point\n",
    "    masked_data = data.copy()\n",
    "    for t in range(data.shape[-1]):\n",
    "        masked_data[..., t] = np.where(mask, data[..., t], 0)\n",
    "\n",
    "    # Save the masked data to a new NIfTI file\n",
    "    masked_nifti = nib.Nifti1Image(masked_data, nifti_img.affine)\n",
    "    output_path = os.path.join(output_directory, os.path.basename(nifti_file_path).replace('.nii', '_masked.nii'))\n",
    "    #nib.save(masked_nifti, output_path)\n",
    "    \n",
    "    return masked_nifti\n",
    "    #return output_path\n"
   ]
  },
  {
   "cell_type": "code",
   "execution_count": 2,
   "id": "3f0eaae2",
   "metadata": {},
   "outputs": [],
   "source": [
    "def normalize_and_save(nifti_file_path, nifti_img, output_directory):\n",
    "    # Load the NIfTI file data\n",
    "    data = nifti_img.get_fdata()\n",
    "\n",
    "    # Calculate the mean and standard deviation along the time dimension\n",
    "    means = np.mean(data, axis=3)\n",
    "    stds = np.std(data, axis=3)\n",
    "\n",
    "    # Avoid division by zero by adding a small constant to stds\n",
    "    stds[stds == 0] = 1e-10\n",
    "\n",
    "    # Normalize the data\n",
    "    normalized_data = (data - means[..., np.newaxis]) / stds[..., np.newaxis]\n",
    "\n",
    "    # Save the normalized data to a new NIfTI file\n",
    "    normalized_nifti = nib.Nifti1Image(normalized_data, nifti_img.affine)\n",
    "    output_file_name = os.path.basename(nifti_file_path).replace('.nii', '_quirkynormalized.nii')\n",
    "    output_path = os.path.join(output_directory, output_file_name)\n",
    "    nib.save(normalized_nifti, output_path)\n",
    "\n",
    "    return output_path, means, stds"
   ]
  },
  {
   "cell_type": "code",
   "execution_count": 4,
   "id": "45dd1906",
   "metadata": {},
   "outputs": [],
   "source": [
    "base_dir= \"/home/fgomezacebo/lood_storage/divi/Projects/fMRS/students/Fernando/Renamed_scans_conditions\"\n",
    "condition = \"high\"  # Change this to 'high' or 'placebo' as needed\n",
    "search_pattern = os.path.join(base_dir, \"sub-0**/ses-{}/func/*.nii.gz\".format(condition))\n",
    "directory_path = \"/home/fgomezacebo/scratch\"\n",
    "mask_file_path = '/home/fgomezacebo/scratch/MNI152lin_T1_2mm_brain_pve_GM.nii.gz'\n",
    "\n",
    "for file_path in glob.glob(search_pattern):\n",
    "        # Load the NIfTI file\n",
    "        nifti_img = apply_brain_mask(file_path, mask_file_path, 0.3, directory_path)\n",
    "        norm_nifti = normalize_and_save(file_path, nifti_img, directory_path)\n"
   ]
  }
 ],
 "metadata": {
  "kernelspec": {
   "display_name": "Python 3",
   "language": "python",
   "name": "python3"
  },
  "language_info": {
   "codemirror_mode": {
    "name": "ipython",
    "version": 3
   },
   "file_extension": ".py",
   "mimetype": "text/x-python",
   "name": "python",
   "nbconvert_exporter": "python",
   "pygments_lexer": "ipython3",
   "version": "3.6.8"
  }
 },
 "nbformat": 4,
 "nbformat_minor": 5
}
