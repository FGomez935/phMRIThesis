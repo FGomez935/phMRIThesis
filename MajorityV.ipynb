{
 "cells": [
  {
   "cell_type": "code",
   "execution_count": 1,
   "id": "9949dc52",
   "metadata": {},
   "outputs": [
    {
     "name": "stdout",
     "output_type": "stream",
     "text": [
      "Map created\n",
      "Map created\n",
      "Map created\n",
      "Map created\n",
      "Map created\n",
      "Map created\n",
      "Map created\n",
      "Map created\n",
      "Map created\n",
      "Map created\n",
      "Map created\n",
      "Map created\n",
      "Map created\n",
      "Map created\n",
      "Map created\n",
      "Map created\n",
      "Map created\n",
      "Map created\n",
      "Map created\n",
      "Map created\n",
      "Map created\n",
      "Map created\n",
      "Map created\n",
      "Map created\n",
      "Map created\n",
      "Map created\n",
      "Map created\n",
      "Consensus cluster map saved to /home/fgomezacebo/scratch/consensus_cluster_map_TAQ_plac.nii\n"
     ]
    }
   ],
   "source": [
    "import os\n",
    "import numpy as np\n",
    "import nibabel as nib\n",
    "from sklearn.cluster import KMeans\n",
    "from scipy.stats import mode\n",
    "import glob\n",
    "from tslearn.clustering import TimeSeriesKMeans\n",
    "from sklearn.preprocessing import StandardScaler\n",
    "from scipy.ndimage import gaussian_filter1d"
   ]
  },
  {
   "cell_type": "code",
   "execution_count": null,
   "id": "8178dc57",
   "metadata": {},
   "outputs": [],
   "source": [
    "# Parameters\n",
    "directory_path = \"/home/fgomezacebo/scratch\" # Directory with patient NIfTI files\n",
    "n_clusters = 5  # Number of clusters for k-means\n",
    "nifti_file_paths = [os.path.join(directory_path, f) for f in os.listdir(directory_path) if f.endswith('.nii.gz')]\n",
    "\n",
    "# Initialize a list to store the cluster maps for each patient\n",
    "patient_cluster_maps = []\n",
    "nifti_paths = []\n",
    "specific_string = \"ses-plac_filtered_func_data_normalized.nii.gz\"\n",
    "paths = [os.path.join(directory_path, f) for f in os.listdir(directory_path) if specific_string in f]"
   ]
  },
  {
   "cell_type": "code",
   "execution_count": null,
   "id": "cb2d6b61",
   "metadata": {},
   "outputs": [],
   "source": [
    "for file_path in paths:\n",
    "    # Load the NIfTI file\n",
    "    nifti_img = nib.load(file_path)\n",
    "    data = nifti_img.get_fdata()\n",
    "\n",
    "    # Identify non-zero voxels\n",
    "    non_zero_mask = np.any(data != 0, axis=-1)\n",
    "\n",
    "    # Reshape data to (voxels, time series)\n",
    "    reshaped_data = data[non_zero_mask].reshape(-1, data.shape[-1])\n",
    "\n",
    "    # Calculate sum of squared TAC values for each voxel\n",
    "    sum_squared_TAC = np.sum(np.square(reshaped_data), axis=1)\n",
    "    \n",
    "    # Determine the threshold for the top 50% TAC values\n",
    "    threshold = np.percentile(sum_squared_TAC, 50)\n",
    "\n",
    "    # Select voxels for clustering (top 50% based on sum of squared TAC)\n",
    "    selected_voxels = reshaped_data[sum_squared_TAC >= threshold, :]\n",
    "\n",
    "    kmeans = KMeans(n_clusters=n_clusters)\n",
    "    kmeans.fit(selected_voxels)\n",
    "    selected_cluster_labels = kmeans.labels_\n",
    "\n",
    "    # Get centroids of the clusters\n",
    "    centroids = kmeans.cluster_centers_\n",
    "\n",
    "    # Create a full brain map\n",
    "    full_brain_map = np.full(data.shape[:-1], -1, dtype=int)\n",
    "\n",
    "    # Assign selected voxels to their clusters\n",
    "    selected_voxels_3d_indices = np.argwhere(non_zero_mask)[sum_squared_TAC >= threshold]\n",
    "    for idx_3d, label in zip(selected_voxels_3d_indices, selected_cluster_labels):\n",
    "        full_brain_map[tuple(idx_3d)] = label\n",
    "\n",
    "    # Assign remaining voxels to the nearest cluster\n",
    "    remaining_voxels = reshaped_data[sum_squared_TAC < threshold, :]\n",
    "    remaining_voxels_3d_indices = np.argwhere(non_zero_mask)[sum_squared_TAC < threshold]\n",
    "    for idx, voxel in zip(remaining_voxels_3d_indices, remaining_voxels):\n",
    "        distances = np.linalg.norm(voxel - centroids, axis=1)\n",
    "        nearest_cluster = np.argmin(distances)\n",
    "        full_brain_map[tuple(idx)] = nearest_cluster\n",
    "\n",
    "    print('Map created')\n",
    "\n",
    "\n",
    "    patient_cluster_maps.append(full_brain_map)"
   ]
  },
  {
   "cell_type": "code",
   "execution_count": null,
   "id": "56686341",
   "metadata": {},
   "outputs": [],
   "source": [
    "# Majority voting for consensus cluster map\n",
    "all_patient_cluster_maps = np.stack(patient_cluster_maps)\n",
    "consensus_cluster_map = mode(all_patient_cluster_maps, axis=0).mode.squeeze()\n",
    "\n",
    "# Create and save the consensus cluster map NIfTI image\n",
    "consensus_cluster_nifti = nib.Nifti1Image(consensus_cluster_map.astype(np.int16), nifti_img.affine)\n",
    "\n",
    "# Save the consensus cluster map as a new NIfTI file\n",
    "consensus_map_file_path = os.path.join(directory_path, 'consensus_cluster_map_TAQ_plac.nii')\n",
    "nib.save(consensus_cluster_nifti, consensus_map_file_path)\n",
    "\n",
    "print(f\"Consensus cluster map saved to {consensus_map_file_path}\")"
   ]
  }
 ],
 "metadata": {
  "kernelspec": {
   "display_name": "Python 3",
   "language": "python",
   "name": "python3"
  },
  "language_info": {
   "codemirror_mode": {
    "name": "ipython",
    "version": 3
   },
   "file_extension": ".py",
   "mimetype": "text/x-python",
   "name": "python",
   "nbconvert_exporter": "python",
   "pygments_lexer": "ipython3",
   "version": "3.6.8"
  }
 },
 "nbformat": 4,
 "nbformat_minor": 5
}
