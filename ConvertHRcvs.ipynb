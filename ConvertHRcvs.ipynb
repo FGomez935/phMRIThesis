{
 "cells": [
  {
   "cell_type": "code",
   "execution_count": 7,
   "id": "90dae83e",
   "metadata": {},
   "outputs": [
    {
     "name": "stdout",
     "output_type": "stream",
     "text": [
      "11\n",
      "Aggregated data saved to /home/fgomezacebo/scratch/HR/phmrs/%change data/aggregated%changeHR_data.csv\n"
     ]
    }
   ],
   "source": [
    "import os\n",
    "import pandas as pd\n",
    "\n",
    "# Update this path to the directory where your CSV files are stored\n",
    "directory_path = \"/home/fgomezacebo/scratch/HR/phmrs/%change data/\"\n",
    "\n",
    "files = [f for f in os.listdir(directory_path) if f.startswith(\"PercentChangeHR_phMRS\") and f.endswith(\".csv\")]\n",
    "\n",
    "aggregated_data = []\n",
    "\n",
    "for file in files:\n",
    "    subject_number = file.split(\"phMRS\")[1].split(\"_\")[0]\n",
    "    session_number = file.split(\"ses-\")[1].split(\".csv\")[0]\n",
    "\n",
    "    data_path = os.path.join(directory_path, file)\n",
    "    data = pd.read_csv(data_path, header=None)  # Assuming the last value is NaN and needs to be removed\n",
    "\n",
    "    # Transform the column into a row and prepend subject and session numbers\n",
    "    row_data = [int(subject_number), int(session_number)] + data.squeeze().tolist()\n",
    "\n",
    "    aggregated_data.append(row_data)\n",
    "\n",
    "# Define column labels dynamically, starting with Baseline, then Infusions\n",
    "num_columns = len(aggregated_data[0])# Get the length of the first row to know how many columns are needed\n",
    "print((num_columns))\n",
    "column_labels = [\"Subject\", \"Session\", \"Baseline\"] + [f\"Infusion{i}\" for i in range(1, num_columns - 2)]\n",
    "\n",
    "aggregated_df = pd.DataFrame(aggregated_data, columns=column_labels)\n",
    "\n",
    "# Save the aggregated data to a new CSV file\n",
    "output_file_path = os.path.join(directory_path, \"aggregated%changeHR_data.csv\")\n",
    "aggregated_df.to_csv(output_file_path, index=False)\n",
    "\n",
    "print(f\"Aggregated data saved to {output_file_path}\")"
   ]
  },
  {
   "cell_type": "code",
   "execution_count": 8,
   "id": "8ed099d1",
   "metadata": {},
   "outputs": [
    {
     "name": "stdout",
     "output_type": "stream",
     "text": [
      "Modified dataset saved to: /home/fgomezacebo/scratch/HR/phmrs/%change data/aggregated%changeHR_data.csv\n"
     ]
    }
   ],
   "source": [
    "dataset_path = '/home/fgomezacebo/scratch/HR/phmrs/%change data/aggregated%changeHR_data.csv'  # Update this path to your dataset file\n",
    "df = pd.read_csv(dataset_path)\n",
    "\n",
    "# Check if the 'Baseline' column exists in the DataFrame and drop it\n",
    "if 'Baseline' in df.columns:\n",
    "    df = df.drop(columns=['Baseline'])\n",
    "\n",
    "# Save the modified DataFrame to a new CSV file\n",
    "new_dataset_path = '/home/fgomezacebo/scratch/HR/phmrs/%change data/aggregated%changeHR_data.csv'  # Update this path as needed\n",
    "df.to_csv(new_dataset_path, index=False)\n",
    "\n",
    "print(f\"Modified dataset saved to: {new_dataset_path}\")"
   ]
  }
 ],
 "metadata": {
  "kernelspec": {
   "display_name": "Python 3",
   "language": "python",
   "name": "python3"
  },
  "language_info": {
   "codemirror_mode": {
    "name": "ipython",
    "version": 3
   },
   "file_extension": ".py",
   "mimetype": "text/x-python",
   "name": "python",
   "nbconvert_exporter": "python",
   "pygments_lexer": "ipython3",
   "version": "3.6.8"
  }
 },
 "nbformat": 4,
 "nbformat_minor": 5
}
